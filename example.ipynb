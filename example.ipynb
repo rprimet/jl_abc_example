{
 "cells": [
  {
   "cell_type": "code",
   "execution_count": 10,
   "metadata": {},
   "outputs": [
    {
     "data": {
      "text/vnd.abc": [
       "\n",
       "X:1\n",
       "T:Speed the Plough\n",
       "M:4/4\n",
       "K:G\n",
       "|:GABc dedB|dedB dedB|c2ec B2dB|c2A2 A2BA|\n",
       "GABc dedB|dedB dedB|c2ec B2dB|A2F2 G4:|\n",
       "|:g2gf gdBd|g2f2 e2d2|c2ec B2dB|c2A2 A2df|\n",
       "g2gf g2Bd|g2f2 e2d2|c2ec B2dB|A2F2 G4:|\n"
      ]
     },
     "metadata": {},
     "output_type": "display_data"
    }
   ],
   "source": [
    "piece = \"\"\"\n",
    "X:1\n",
    "T:Speed the Plough\n",
    "M:4/4\n",
    "K:G\n",
    "|:GABc dedB|dedB dedB|c2ec B2dB|c2A2 A2BA|\n",
    "GABc dedB|dedB dedB|c2ec B2dB|A2F2 G4:|\n",
    "|:g2gf gdBd|g2f2 e2d2|c2ec B2dB|c2A2 A2df|\n",
    "g2gf g2Bd|g2f2 e2d2|c2ec B2dB|A2F2 G4:|\n",
    "\"\"\"\n",
    "from IPython.display import display\n",
    "mime_bundle = {'text/vnd.abc': piece}\n",
    "display(mime_bundle, raw=True)"
   ]
  },
  {
   "cell_type": "code",
   "execution_count": 19,
   "metadata": {},
   "outputs": [
    {
     "data": {
      "text/vnd.abc": [
       "\n",
       "X:1\n",
       "T:Stormy weather\n",
       "M:4/4\n",
       "L:1/4\n",
       "Q:60\n",
       "K:G\n",
       "%%vskip 20\n",
       "P:A\n",
       "^A/B/ |: \"Gmaj7\"d2-\"G#dim7\"d-(3d/^A/B/ | \"Am7\"d/Bd//^c//\"D7\"=c-c/^A//B// | \"GMaj7\"d<D-\"G#dim\"D2 |\n",
       "\"Am7\"A/A/A/A/\"D9\"A-(3A/G/E/ | \"G6\"G<D-\"G#dim\"D2 | \"Am7\"z/C/E/\"D7#5#9\"G/^A>^A |\n",
       "|1 \"G6\"B<G-\"E7#9\"G2 | \"Am7\"z2\"D7\"z^A/B/ :|\n"
      ]
     },
     "metadata": {},
     "output_type": "display_data"
    }
   ],
   "source": [
    "stormy_weather = \"\"\"\n",
    "X:1\n",
    "T:Stormy weather\n",
    "M:4/4\n",
    "L:1/4\n",
    "Q:60\n",
    "K:G\n",
    "%%vskip 20\n",
    "P:A\n",
    "^A/B/ |: \"Gmaj7\"d2-\"G#dim7\"d-(3d/^A/B/ | \"Am7\"d/Bd//^c//\"D7\"=c-c/^A//B// | \"GMaj7\"d<D-\"G#dim\"D2 |\n",
    "\"Am7\"A/A/A/A/\"D9\"A-(3A/G/E/ | \"G6\"G<D-\"G#dim\"D2 | \"Am7\"z/C/E/\"D7#5#9\"G/^A>^A |\n",
    "|1 \"G6\"B<G-\"E7#9\"G2 | \"Am7\"z2\"D7\"z^A/B/ :|\n",
    "\"\"\"\n",
    "from IPython.display import display\n",
    "mime_bundle = {'text/vnd.abc': stormy_weather}\n",
    "display(mime_bundle, raw=True)"
   ]
  },
  {
   "cell_type": "code",
   "execution_count": null,
   "metadata": {},
   "outputs": [],
   "source": []
  }
 ],
 "metadata": {
  "kernelspec": {
   "display_name": "Python 3",
   "language": "python",
   "name": "python3"
  },
  "language_info": {
   "codemirror_mode": {
    "name": "ipython",
    "version": 3
   },
   "file_extension": ".py",
   "mimetype": "text/x-python",
   "name": "python",
   "nbconvert_exporter": "python",
   "pygments_lexer": "ipython3",
   "version": "3.6.3"
  }
 },
 "nbformat": 4,
 "nbformat_minor": 2
}
